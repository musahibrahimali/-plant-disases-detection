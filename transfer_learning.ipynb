{
 "cells": [
  {
   "cell_type": "code",
   "execution_count": null,
   "metadata": {},
   "outputs": [],
   "source": [
    "import os                       # for working with files\n",
    "import numpy as np              # for numerical computationss\n",
    "import pandas as pd             # for working with dataframes\n",
    "import torch                    # Pytorch module\n",
    "# for plotting informations on graph and images using tensors\n",
    "import matplotlib.pyplot as plt\n",
    "import torch.nn as nn           # for creating  neural networks\n",
    "from torch.utils.data import DataLoader  # for dataloaders\n",
    "from PIL import Image           # for checking images\n",
    "import torch.nn.functional as F  # for functions for calculating loss\n",
    "# for transforming images into tensors\n",
    "import torchvision.transforms as transforms\n",
    "from torchvision.utils import make_grid       # for data checking\n",
    "# for working with classes and images\n",
    "from torchvision.datasets import ImageFolder\n",
    "# for getting the summary of our model\n",
    "from torchsummary import summary\n",
    "\n",
    "%matplotlib inline\n"
   ]
  },
  {
   "cell_type": "code",
   "execution_count": null,
   "metadata": {},
   "outputs": [],
   "source": []
  }
 ],
 "metadata": {
  "kernelspec": {
   "display_name": "base",
   "language": "python",
   "name": "python3"
  },
  "language_info": {
   "codemirror_mode": {
    "name": "ipython",
    "version": 3
   },
   "file_extension": ".py",
   "mimetype": "text/x-python",
   "name": "python",
   "nbconvert_exporter": "python",
   "pygments_lexer": "ipython3",
   "version": "3.9.13 (main, Aug 25 2022, 23:51:50) [MSC v.1916 64 bit (AMD64)]"
  },
  "orig_nbformat": 4,
  "vscode": {
   "interpreter": {
    "hash": "4c8d603154e501021a1e94909a6fa1812dbfd42667d2e6c11a4f040bd55425bc"
   }
  }
 },
 "nbformat": 4,
 "nbformat_minor": 2
}
