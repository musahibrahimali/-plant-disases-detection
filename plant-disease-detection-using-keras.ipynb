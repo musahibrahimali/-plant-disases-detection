{
 "cells": [
  {
   "cell_type": "markdown",
   "metadata": {
    "_uuid": "1020827e241ac87ffdf8e0f8762a6885bdc28fbc"
   },
   "source": [
    "## Import necessary packages"
   ]
  },
  {
   "cell_type": "code",
   "execution_count": 1,
   "metadata": {
    "_cell_guid": "b1076dfc-b9ad-4769-8c92-a6c4dae69d19",
    "_uuid": "8f2839f25d086af736a60e9eeb907d3b93b6e0e5",
    "trusted": true
   },
   "outputs": [],
   "source": [
    "import numpy as np\n",
    "import tensorflow as tf\n",
    "import pickle\n",
    "import cv2\n",
    "from os import listdir\n",
    "from sklearn.preprocessing import LabelBinarizer\n",
    "from keras.models import Sequential\n",
    "from tensorflow.keras.layers import BatchNormalization\n",
    "from keras.layers.convolutional import Conv2D\n",
    "from keras.layers.convolutional import MaxPooling2D\n",
    "from keras.layers.core import Activation, Flatten, Dropout, Dense\n",
    "from keras import backend as K\n",
    "from keras.preprocessing.image import ImageDataGenerator\n",
    "from keras.optimizers import Adam\n",
    "from keras.preprocessing import image\n",
    "from tensorflow.keras.utils import img_to_array\n",
    "from sklearn.preprocessing import MultiLabelBinarizer\n",
    "from sklearn.model_selection import train_test_split\n",
    "import matplotlib.pyplot as plt"
   ]
  },
  {
   "cell_type": "code",
   "execution_count": 2,
   "metadata": {
    "_uuid": "7c3354a78e21a1a62ad0c4689d0ab3238fb760d4",
    "trusted": true
   },
   "outputs": [],
   "source": [
    "EPOCHS = 25 # training cycles\n",
    "INIT_LR = 1e-3 # learning rate\n",
    "BS = 32 # batch size\n",
    "default_image_size = tuple((256, 256)) # default image size\n",
    "image_size = 0 # image size\n",
    "directory_root = './input/plantvillage' # root directory of the data\n",
    "width=256 # with \n",
    "height=256 # height\n",
    "depth=3 # depth"
   ]
  },
  {
   "cell_type": "markdown",
   "metadata": {
    "_uuid": "2bf7ac0a0b805946f844a48e55d5281403e53f57"
   },
   "source": [
    "Function to convert images to array"
   ]
  },
  {
   "cell_type": "code",
   "execution_count": 3,
   "metadata": {
    "_uuid": "c9c3e60b13ace6c8f3e54336e12f9970fde438a3",
    "trusted": true
   },
   "outputs": [],
   "source": [
    "def convert_image_to_array(image_dir: any) -> any:\n",
    "    \"\"\"\n",
    "    Convert the images to an array \n",
    "    supply the directory of the image\n",
    "\n",
    "    Args:\n",
    "        image_dir (_type_): _description_\n",
    "\n",
    "    Returns:\n",
    "        _type_: _description_\n",
    "    \"\"\"\n",
    "    try:\n",
    "        image = cv2.imread(image_dir)\n",
    "        if image is not None :\n",
    "            image = cv2.resize(image, default_image_size)   \n",
    "            return img_to_array(image)\n",
    "        else :\n",
    "            return np.array([])\n",
    "    except Exception as e:\n",
    "        print(f\"Error : {e}\")\n",
    "        return None"
   ]
  },
  {
   "cell_type": "markdown",
   "metadata": {
    "_uuid": "24d42b87fad54a9556f78357ce673cc5152468c1"
   },
   "source": [
    "Fetch images from directory"
   ]
  },
  {
   "cell_type": "code",
   "execution_count": 4,
   "metadata": {
    "_uuid": "bb8d4c343314028f52ae3c3a840478a834a16c95",
    "trusted": true
   },
   "outputs": [
    {
     "name": "stdout",
     "output_type": "stream",
     "text": [
      "[INFO] Loading images ...\n",
      "[INFO] Processing Corn_(maize)___Cercospora_leaf_spot Gray_leaf_spot ...\n",
      "[INFO] Processing Corn_(maize)___Common_rust_ ...\n",
      "[INFO] Processing Corn_(maize)___healthy ...\n",
      "[INFO] Processing Corn_(maize)___Northern_Leaf_Blight ...\n",
      "[INFO] Processing Orange___Haunglongbing_(Citrus_greening) ...\n",
      "[INFO] Processing Pepper,_bell___Bacterial_spot ...\n",
      "[INFO] Processing Pepper,_bell___healthy ...\n",
      "[INFO] Processing Potato___Early_blight ...\n",
      "[INFO] Processing Potato___healthy ...\n",
      "[INFO] Processing Potato___Late_blight ...\n",
      "[INFO] Processing Soybean___healthy ...\n",
      "[INFO] Processing Tomato___Bacterial_spot ...\n",
      "[INFO] Processing Tomato___Early_blight ...\n",
      "[INFO] Processing Tomato___healthy ...\n",
      "[INFO] Processing Tomato___Late_blight ...\n",
      "[INFO] Processing Tomato___Leaf_Mold ...\n",
      "[INFO] Processing Tomato___Septoria_leaf_spot ...\n",
      "[INFO] Processing Tomato___Spider_mites Two-spotted_spider_mite ...\n",
      "[INFO] Processing Tomato___Target_Spot ...\n",
      "[INFO] Processing Tomato___Tomato_mosaic_virus ...\n",
      "[INFO] Processing Tomato___Tomato_Yellow_Leaf_Curl_Virus ...\n",
      "[INFO] Image loading completed\n"
     ]
    }
   ],
   "source": [
    "image_list, label_list = [], []\n",
    "try:\n",
    "    print(\"[INFO] Loading images ...\")\n",
    "    root_dir = listdir(directory_root)\n",
    "    for directory in root_dir :\n",
    "        # remove .DS_Store from list\n",
    "        if directory == \".DS_Store\" :\n",
    "            root_dir.remove(directory)\n",
    "\n",
    "    for plant_folder in root_dir :\n",
    "        plant_disease_folder_list = listdir(f\"{directory_root}/{plant_folder}\")\n",
    "        \n",
    "        for disease_folder in plant_disease_folder_list :\n",
    "            # remove .DS_Store from list\n",
    "            if disease_folder == \".DS_Store\" :\n",
    "                plant_disease_folder_list.remove(disease_folder)\n",
    "\n",
    "        for plant_disease_folder in plant_disease_folder_list:\n",
    "            print(f\"[INFO] Processing {plant_disease_folder} ...\")\n",
    "            plant_disease_image_list = listdir(f\"{directory_root}/{plant_folder}/{plant_disease_folder}/\")\n",
    "                \n",
    "            for single_plant_disease_image in plant_disease_image_list :\n",
    "                if single_plant_disease_image == \".DS_Store\" :\n",
    "                    plant_disease_image_list.remove(single_plant_disease_image)\n",
    "\n",
    "            for image in plant_disease_image_list[:200]:\n",
    "                image_directory = f\"{directory_root}/{plant_folder}/{plant_disease_folder}/{image}\"\n",
    "                if image_directory.endswith(\".jpg\") == True or image_directory.endswith(\".JPG\") == True:\n",
    "                    image_list.append(convert_image_to_array(image_directory))\n",
    "                    label_list.append(plant_disease_folder)\n",
    "    print(\"[INFO] Image loading completed\")  \n",
    "except Exception as e:\n",
    "    print(f\"Error : {e}\")"
   ]
  },
  {
   "cell_type": "markdown",
   "metadata": {
    "_uuid": "35c4b76d33e0263523e479657580104532f81d6e"
   },
   "source": [
    "Get Size of Processed Image"
   ]
  },
  {
   "cell_type": "code",
   "execution_count": 5,
   "metadata": {
    "_uuid": "6ee1ad9c422f112ec2862699b5c0f68b8d658123",
    "trusted": true
   },
   "outputs": [
    {
     "data": {
      "text/plain": [
       "4152"
      ]
     },
     "execution_count": 5,
     "metadata": {},
     "output_type": "execute_result"
    }
   ],
   "source": [
    "image_size = len(image_list)\n",
    "image_size"
   ]
  },
  {
   "cell_type": "markdown",
   "metadata": {
    "_uuid": "905b41b226f3fd82a88e67821eb42a07f24b31f7"
   },
   "source": [
    "Transform Image Labels uisng [Scikit Learn](http://scikit-learn.org/)'s LabelBinarizer"
   ]
  },
  {
   "cell_type": "code",
   "execution_count": 6,
   "metadata": {
    "_uuid": "904ff893fe14f5060dd9e7be2ccf96ec793597e5",
    "trusted": true
   },
   "outputs": [
    {
     "data": {
      "text/plain": [
       "array(['Corn_(maize)___Cercospora_leaf_spot Gray_leaf_spot',\n",
       "       'Corn_(maize)___Common_rust_',\n",
       "       'Corn_(maize)___Northern_Leaf_Blight', 'Corn_(maize)___healthy',\n",
       "       'Orange___Haunglongbing_(Citrus_greening)',\n",
       "       'Pepper,_bell___Bacterial_spot', 'Pepper,_bell___healthy',\n",
       "       'Potato___Early_blight', 'Potato___Late_blight',\n",
       "       'Potato___healthy', 'Soybean___healthy', 'Tomato___Bacterial_spot',\n",
       "       'Tomato___Early_blight', 'Tomato___Late_blight',\n",
       "       'Tomato___Leaf_Mold', 'Tomato___Septoria_leaf_spot',\n",
       "       'Tomato___Spider_mites Two-spotted_spider_mite',\n",
       "       'Tomato___Target_Spot', 'Tomato___Tomato_Yellow_Leaf_Curl_Virus',\n",
       "       'Tomato___Tomato_mosaic_virus', 'Tomato___healthy'], dtype='<U50')"
      ]
     },
     "execution_count": 6,
     "metadata": {},
     "output_type": "execute_result"
    }
   ],
   "source": [
    "label_binarizer = LabelBinarizer()\n",
    "image_labels = label_binarizer.fit_transform(label_list)\n",
    "pickle.dump(label_binarizer,open('label_transform.pkl', 'wb'))\n",
    "n_classes = len(label_binarizer.classes_)\n",
    "label_binarizer.classes_\n"
   ]
  },
  {
   "cell_type": "code",
   "execution_count": 7,
   "metadata": {
    "_uuid": "6cd9c977b3d164a5570a0c24fdd8624adb9d56b8",
    "trusted": true
   },
   "outputs": [],
   "source": [
    "# normalize the images\n",
    "np_image_list = np.array(image_list, dtype=np.float16) / 225.0"
   ]
  },
  {
   "cell_type": "code",
   "execution_count": 8,
   "metadata": {
    "_uuid": "9f4829560fdfa218cee18c1cfb2eb9452ef180e5",
    "trusted": true
   },
   "outputs": [
    {
     "name": "stdout",
     "output_type": "stream",
     "text": [
      "[INFO] Spliting data to train, test\n"
     ]
    }
   ],
   "source": [
    "# split the data into training and testing set\n",
    "print(\"[INFO] Spliting data to train, test\")\n",
    "x_main, x_test, y_main, y_test = train_test_split(np_image_list, image_labels, test_size=0.2, random_state = 42) "
   ]
  },
  {
   "cell_type": "code",
   "execution_count": 9,
   "metadata": {},
   "outputs": [
    {
     "data": {
      "text/plain": [
       "3321"
      ]
     },
     "execution_count": 9,
     "metadata": {},
     "output_type": "execute_result"
    }
   ],
   "source": [
    "# main size\n",
    "len(x_main)"
   ]
  },
  {
   "cell_type": "code",
   "execution_count": 10,
   "metadata": {},
   "outputs": [
    {
     "data": {
      "text/plain": [
       "831"
      ]
     },
     "execution_count": 10,
     "metadata": {},
     "output_type": "execute_result"
    }
   ],
   "source": [
    "# test size\n",
    "len(x_test)"
   ]
  },
  {
   "cell_type": "code",
   "execution_count": 11,
   "metadata": {},
   "outputs": [
    {
     "name": "stdout",
     "output_type": "stream",
     "text": [
      "[INFO] Spliting data to train, validation\n"
     ]
    }
   ],
   "source": [
    "# split the train into training and validation sets\n",
    "print(\"[INFO] Spliting data to train, validation\")\n",
    "x_train, x_val, y_train, y_val = train_test_split(\n",
    "    x_main, \n",
    "    y_main,\n",
    "    test_size=0.2, \n",
    "    random_state=42\n",
    ")"
   ]
  },
  {
   "cell_type": "code",
   "execution_count": 12,
   "metadata": {},
   "outputs": [
    {
     "data": {
      "text/plain": [
       "2656"
      ]
     },
     "execution_count": 12,
     "metadata": {},
     "output_type": "execute_result"
    }
   ],
   "source": [
    "# train size\n",
    "len(x_train)"
   ]
  },
  {
   "cell_type": "code",
   "execution_count": 13,
   "metadata": {},
   "outputs": [
    {
     "data": {
      "text/plain": [
       "665"
      ]
     },
     "execution_count": 13,
     "metadata": {},
     "output_type": "execute_result"
    }
   ],
   "source": [
    "# validation size\n",
    "len(x_val)\n"
   ]
  },
  {
   "cell_type": "code",
   "execution_count": 14,
   "metadata": {
    "_uuid": "eec8afa64e676d52c814fc8e096955a60f13b6c5",
    "trusted": true
   },
   "outputs": [],
   "source": [
    "aug = ImageDataGenerator(\n",
    "    rotation_range=25, \n",
    "    width_shift_range=0.1,\n",
    "    height_shift_range=0.1, \n",
    "    shear_range=0.2, \n",
    "    zoom_range=0.2,\n",
    "    horizontal_flip=True, \n",
    "    fill_mode=\"nearest\"\n",
    ")"
   ]
  },
  {
   "cell_type": "code",
   "execution_count": 15,
   "metadata": {
    "_cell_guid": "79c7e3d0-c299-4dcb-8224-4455121ee9b0",
    "_uuid": "d629ff2d2480ee46fbb7e2d37f6b5fab8052498a",
    "trusted": true
   },
   "outputs": [],
   "source": [
    "model = Sequential()\n",
    "inputShape = (height, width, depth)\n",
    "chanDim = -1\n",
    "if K.image_data_format() == \"channels_first\":\n",
    "    inputShape = (depth, height, width)\n",
    "    chanDim = 1\n",
    "model.add(Conv2D(32, (3, 3), padding=\"same\",input_shape=inputShape))\n",
    "model.add(Activation(tf.nn.relu))\n",
    "model.add(BatchNormalization(axis=chanDim))\n",
    "model.add(MaxPooling2D(pool_size=(3, 3)))\n",
    "model.add(Dropout(0.25))\n",
    "model.add(Conv2D(64, (3, 3), padding=\"same\"))\n",
    "model.add(Activation(tf.nn.relu))\n",
    "model.add(BatchNormalization(axis=chanDim))\n",
    "model.add(Conv2D(64, (3, 3), padding=\"same\"))\n",
    "model.add(Activation(tf.nn.relu))\n",
    "model.add(BatchNormalization(axis=chanDim))\n",
    "model.add(MaxPooling2D(pool_size=(2, 2)))\n",
    "model.add(Dropout(0.25))\n",
    "model.add(Conv2D(128, (3, 3), padding=\"same\"))\n",
    "model.add(Activation(tf.nn.relu))\n",
    "model.add(BatchNormalization(axis=chanDim))\n",
    "model.add(Conv2D(128, (3, 3), padding=\"same\"))\n",
    "model.add(Activation(tf.nn.relu))\n",
    "model.add(BatchNormalization(axis=chanDim))\n",
    "model.add(MaxPooling2D(pool_size=(2, 2)))\n",
    "model.add(Dropout(0.25))\n",
    "model.add(Flatten())\n",
    "model.add(Dense(1024))\n",
    "model.add(Activation(tf.nn.relu))\n",
    "model.add(BatchNormalization())\n",
    "model.add(Dropout(0.5))\n",
    "model.add(Dense(n_classes))\n",
    "model.add(Activation(tf.nn.softmax))"
   ]
  },
  {
   "cell_type": "markdown",
   "metadata": {
    "_uuid": "53b13c03e4cea6dc2453a84e254b806ebeed2d99"
   },
   "source": [
    "Model Summary"
   ]
  },
  {
   "cell_type": "code",
   "execution_count": 16,
   "metadata": {
    "_uuid": "1e1523a834fbf872940171fbdefb3dcce2b5f31b",
    "trusted": true
   },
   "outputs": [
    {
     "name": "stdout",
     "output_type": "stream",
     "text": [
      "Model: \"sequential\"\n",
      "_________________________________________________________________\n",
      " Layer (type)                Output Shape              Param #   \n",
      "=================================================================\n",
      " conv2d (Conv2D)             (None, 256, 256, 32)      896       \n",
      "                                                                 \n",
      " activation (Activation)     (None, 256, 256, 32)      0         \n",
      "                                                                 \n",
      " batch_normalization (BatchN  (None, 256, 256, 32)     128       \n",
      " ormalization)                                                   \n",
      "                                                                 \n",
      " max_pooling2d (MaxPooling2D  (None, 85, 85, 32)       0         \n",
      " )                                                               \n",
      "                                                                 \n",
      " dropout (Dropout)           (None, 85, 85, 32)        0         \n",
      "                                                                 \n",
      " conv2d_1 (Conv2D)           (None, 85, 85, 64)        18496     \n",
      "                                                                 \n",
      " activation_1 (Activation)   (None, 85, 85, 64)        0         \n",
      "                                                                 \n",
      " batch_normalization_1 (Batc  (None, 85, 85, 64)       256       \n",
      " hNormalization)                                                 \n",
      "                                                                 \n",
      " conv2d_2 (Conv2D)           (None, 85, 85, 64)        36928     \n",
      "                                                                 \n",
      " activation_2 (Activation)   (None, 85, 85, 64)        0         \n",
      "                                                                 \n",
      " batch_normalization_2 (Batc  (None, 85, 85, 64)       256       \n",
      " hNormalization)                                                 \n",
      "                                                                 \n",
      " max_pooling2d_1 (MaxPooling  (None, 42, 42, 64)       0         \n",
      " 2D)                                                             \n",
      "                                                                 \n",
      " dropout_1 (Dropout)         (None, 42, 42, 64)        0         \n",
      "                                                                 \n",
      " conv2d_3 (Conv2D)           (None, 42, 42, 128)       73856     \n",
      "                                                                 \n",
      " activation_3 (Activation)   (None, 42, 42, 128)       0         \n",
      "                                                                 \n",
      " batch_normalization_3 (Batc  (None, 42, 42, 128)      512       \n",
      " hNormalization)                                                 \n",
      "                                                                 \n",
      " conv2d_4 (Conv2D)           (None, 42, 42, 128)       147584    \n",
      "                                                                 \n",
      " activation_4 (Activation)   (None, 42, 42, 128)       0         \n",
      "                                                                 \n",
      " batch_normalization_4 (Batc  (None, 42, 42, 128)      512       \n",
      " hNormalization)                                                 \n",
      "                                                                 \n",
      " max_pooling2d_2 (MaxPooling  (None, 21, 21, 128)      0         \n",
      " 2D)                                                             \n",
      "                                                                 \n",
      " dropout_2 (Dropout)         (None, 21, 21, 128)       0         \n",
      "                                                                 \n",
      " flatten (Flatten)           (None, 56448)             0         \n",
      "                                                                 \n",
      " dense (Dense)               (None, 1024)              57803776  \n",
      "                                                                 \n",
      " activation_5 (Activation)   (None, 1024)              0         \n",
      "                                                                 \n",
      " batch_normalization_5 (Batc  (None, 1024)             4096      \n",
      " hNormalization)                                                 \n",
      "                                                                 \n",
      " dropout_3 (Dropout)         (None, 1024)              0         \n",
      "                                                                 \n",
      " dense_1 (Dense)             (None, 21)                21525     \n",
      "                                                                 \n",
      " activation_6 (Activation)   (None, 21)                0         \n",
      "                                                                 \n",
      "=================================================================\n",
      "Total params: 58,108,821\n",
      "Trainable params: 58,105,941\n",
      "Non-trainable params: 2,880\n",
      "_________________________________________________________________\n"
     ]
    }
   ],
   "source": [
    "model.summary()"
   ]
  },
  {
   "cell_type": "code",
   "execution_count": 17,
   "metadata": {
    "_uuid": "b21dffee32c325136b4ea23ac511049723f34a24",
    "trusted": true
   },
   "outputs": [
    {
     "name": "stdout",
     "output_type": "stream",
     "text": [
      "[INFO] training network...\n"
     ]
    }
   ],
   "source": [
    "opt = Adam(learning_rate=INIT_LR, decay=INIT_LR / EPOCHS)\n",
    "# distribution\n",
    "model.compile(\n",
    "    loss=\"binary_crossentropy\", \n",
    "    optimizer=opt,\n",
    "    metrics=[\n",
    "        tf.keras.metrics.Accuracy(),\n",
    "    ]\n",
    ")\n",
    "# train the network\n",
    "print(\"[INFO] training network...\")"
   ]
  },
  {
   "cell_type": "code",
   "execution_count": 18,
   "metadata": {
    "_uuid": "1a13efc5ded339fc3c0d9e61041e8ca555362db0",
    "trusted": true
   },
   "outputs": [
    {
     "name": "stdout",
     "output_type": "stream",
     "text": [
      "Epoch 1/25\n",
      "83/83 [==============================] - 296s 3s/step - loss: 0.1405 - accuracy: 0.0000e+00 - categorical_accuracy: 0.4273 - val_loss: 0.5159 - val_accuracy: 0.0000e+00 - val_categorical_accuracy: 0.0451\n",
      "Epoch 2/25\n",
      "83/83 [==============================] - 264s 3s/step - loss: 0.1077 - accuracy: 7.1715e-05 - categorical_accuracy: 0.5520 - val_loss: 0.8268 - val_accuracy: 0.0000e+00 - val_categorical_accuracy: 0.0451\n",
      "Epoch 3/25\n",
      "83/83 [==============================] - 259s 3s/step - loss: 0.0868 - accuracy: 1.7929e-05 - categorical_accuracy: 0.6359 - val_loss: 0.7708 - val_accuracy: 0.0000e+00 - val_categorical_accuracy: 0.0406\n",
      "Epoch 4/25\n",
      "83/83 [==============================] - 252s 3s/step - loss: 0.0911 - accuracy: 1.7929e-04 - categorical_accuracy: 0.6348 - val_loss: 0.7268 - val_accuracy: 0.0000e+00 - val_categorical_accuracy: 0.0812\n",
      "Epoch 5/25\n",
      "83/83 [==============================] - 313s 4s/step - loss: 0.0878 - accuracy: 3.4065e-04 - categorical_accuracy: 0.6352 - val_loss: 0.6717 - val_accuracy: 0.0000e+00 - val_categorical_accuracy: 0.1278\n",
      "Epoch 6/25\n",
      "83/83 [==============================] - 273s 3s/step - loss: 0.0771 - accuracy: 2.6893e-04 - categorical_accuracy: 0.6924 - val_loss: 0.4848 - val_accuracy: 1.4322e-04 - val_categorical_accuracy: 0.2902\n",
      "Epoch 7/25\n",
      "83/83 [==============================] - 285s 3s/step - loss: 0.0692 - accuracy: 2.5100e-04 - categorical_accuracy: 0.7308 - val_loss: 0.1861 - val_accuracy: 4.2965e-04 - val_categorical_accuracy: 0.4526\n",
      "Epoch 8/25\n",
      "83/83 [==============================] - 325s 4s/step - loss: 0.0634 - accuracy: 1.7929e-04 - categorical_accuracy: 0.7398 - val_loss: 0.1530 - val_accuracy: 7.1608e-05 - val_categorical_accuracy: 0.5714\n",
      "Epoch 9/25\n",
      "83/83 [==============================] - 346s 4s/step - loss: 0.0600 - accuracy: 3.0479e-04 - categorical_accuracy: 0.7549 - val_loss: 0.1515 - val_accuracy: 2.1482e-04 - val_categorical_accuracy: 0.5414\n",
      "Epoch 10/25\n",
      "83/83 [==============================] - 302s 4s/step - loss: 0.0526 - accuracy: 1.0757e-04 - categorical_accuracy: 0.7843 - val_loss: 0.1351 - val_accuracy: 0.0014 - val_categorical_accuracy: 0.5880\n",
      "Epoch 11/25\n",
      "83/83 [==============================] - 315s 4s/step - loss: 0.0538 - accuracy: 3.4065e-04 - categorical_accuracy: 0.7805 - val_loss: 0.3666 - val_accuracy: 0.0026 - val_categorical_accuracy: 0.3759\n",
      "Epoch 12/25\n",
      "83/83 [==============================] - 286s 3s/step - loss: 0.0460 - accuracy: 2.3308e-04 - categorical_accuracy: 0.8174 - val_loss: 0.1614 - val_accuracy: 0.0039 - val_categorical_accuracy: 0.5955\n",
      "Epoch 13/25\n",
      "83/83 [==============================] - 267s 3s/step - loss: 0.0451 - accuracy: 3.5858e-04 - categorical_accuracy: 0.8170 - val_loss: 0.3142 - val_accuracy: 0.0032 - val_categorical_accuracy: 0.3895\n",
      "Epoch 14/25\n",
      "83/83 [==============================] - 262s 3s/step - loss: 0.0457 - accuracy: 3.7651e-04 - categorical_accuracy: 0.8227 - val_loss: 0.0764 - val_accuracy: 0.0026 - val_categorical_accuracy: 0.7489\n",
      "Epoch 15/25\n",
      "83/83 [==============================] - 297s 4s/step - loss: 0.0398 - accuracy: 5.1994e-04 - categorical_accuracy: 0.8325 - val_loss: 0.2319 - val_accuracy: 0.0044 - val_categorical_accuracy: 0.5158\n",
      "Epoch 16/25\n",
      "83/83 [==============================] - 280s 3s/step - loss: 0.0563 - accuracy: 5.9165e-04 - categorical_accuracy: 0.7760 - val_loss: 0.1359 - val_accuracy: 0.0029 - val_categorical_accuracy: 0.5895\n",
      "Epoch 17/25\n",
      "83/83 [==============================] - 273s 3s/step - loss: 0.0492 - accuracy: 5.9165e-04 - categorical_accuracy: 0.8023 - val_loss: 0.0594 - val_accuracy: 9.3090e-04 - val_categorical_accuracy: 0.7970\n",
      "Epoch 18/25\n",
      "83/83 [==============================] - 308s 4s/step - loss: 0.0416 - accuracy: 1.9722e-04 - categorical_accuracy: 0.8351 - val_loss: 0.0813 - val_accuracy: 0.0020 - val_categorical_accuracy: 0.7609\n",
      "Epoch 19/25\n",
      "83/83 [==============================] - 305s 4s/step - loss: 0.0396 - accuracy: 3.9443e-04 - categorical_accuracy: 0.8422 - val_loss: 0.1427 - val_accuracy: 0.0024 - val_categorical_accuracy: 0.6135\n",
      "Epoch 20/25\n",
      "83/83 [==============================] - 309s 4s/step - loss: 0.0385 - accuracy: 5.3787e-04 - categorical_accuracy: 0.8422 - val_loss: 0.0656 - val_accuracy: 0.0024 - val_categorical_accuracy: 0.7609\n",
      "Epoch 21/25\n",
      "83/83 [==============================] - 289s 3s/step - loss: 0.0360 - accuracy: 7.7094e-04 - categorical_accuracy: 0.8502 - val_loss: 0.3351 - val_accuracy: 0.0011 - val_categorical_accuracy: 0.3639\n",
      "Epoch 22/25\n",
      "83/83 [==============================] - 290s 3s/step - loss: 0.0409 - accuracy: 8.0680e-04 - categorical_accuracy: 0.8347 - val_loss: 0.1127 - val_accuracy: 0.0034 - val_categorical_accuracy: 0.6797\n",
      "Epoch 23/25\n",
      "83/83 [==============================] - 287s 3s/step - loss: 0.0435 - accuracy: 7.5301e-04 - categorical_accuracy: 0.8276 - val_loss: 0.1972 - val_accuracy: 0.0031 - val_categorical_accuracy: 0.5353\n",
      "Epoch 24/25\n",
      "83/83 [==============================] - 286s 3s/step - loss: 0.0377 - accuracy: 3.9443e-04 - categorical_accuracy: 0.8392 - val_loss: 0.2100 - val_accuracy: 0.0021 - val_categorical_accuracy: 0.5835\n",
      "Epoch 25/25\n",
      "83/83 [==============================] - 284s 3s/step - loss: 0.0328 - accuracy: 8.2473e-04 - categorical_accuracy: 0.8652 - val_loss: 0.1677 - val_accuracy: 0.0036 - val_categorical_accuracy: 0.6165\n"
     ]
    }
   ],
   "source": [
    "history = model.fit(\n",
    "    aug.flow(x_train, y_train, batch_size=BS),\n",
    "    validation_data=(x_val, y_val),\n",
    "    steps_per_epoch=len(x_train) // BS,\n",
    "    epochs=EPOCHS, verbose=1\n",
    "    )"
   ]
  },
  {
   "cell_type": "markdown",
   "metadata": {
    "_uuid": "1495fea08b37e4d4293f975ba30e6c1fc7a85ed9"
   },
   "source": [
    "Plot the train and val curve"
   ]
  },
  {
   "cell_type": "code",
   "execution_count": 20,
   "metadata": {
    "_uuid": "0af5e0f23657a4effc2d21cf8e840e81f42ec8e7",
    "trusted": true
   },
   "outputs": [
    {
     "data": {
      "image/png": "[encoded data removed]",
      "text/plain": [
       "<Figure size 640x480 with 1 Axes>"
      ]
     },
     "metadata": {},
     "output_type": "display_data"
    },
    {
     "data": {
      "image/png": "[encoded data removed]",
      "text/plain": [
       "<Figure size 640x480 with 1 Axes>"
      ]
     },
     "metadata": {},
     "output_type": "display_data"
    }
   ],
   "source": [
    "acc = history.history['accuracy']\n",
    "val_acc = history.history['val_accuracy']\n",
    "loss = history.history['loss']\n",
    "val_loss = history.history['val_loss']\n",
    "epochs = range(1, len(acc) + 1)\n",
    "#Train and validation accuracy\n",
    "plt.plot(epochs, acc, 'b', label='Training accurarcy')\n",
    "plt.plot(epochs, val_acc, 'r', label='Validation accurarcy')\n",
    "plt.title('Training and Validation accurarcy')\n",
    "plt.legend()\n",
    "\n",
    "plt.figure()\n",
    "#Train and validation loss\n",
    "plt.plot(epochs, loss, 'b', label='Training loss')\n",
    "plt.plot(epochs, val_loss, 'r', label='Validation loss')\n",
    "plt.title('Training and Validation loss')\n",
    "plt.legend()\n",
    "plt.show()"
   ]
  },
  {
   "cell_type": "markdown",
   "metadata": {
    "_uuid": "9ca1a4489bd624c69a13cd37c0c2306ac8de55c2"
   },
   "source": [
    "Model Accuracy"
   ]
  },
  {
   "cell_type": "code",
   "execution_count": 21,
   "metadata": {
    "_uuid": "bb44f3d0b7e2862bc7d1a032612ebfd48212c1fe",
    "trusted": true
   },
   "outputs": [
    {
     "name": "stdout",
     "output_type": "stream",
     "text": [
      "[INFO] Calculating model accuracy\n",
      "26/26 [==============================] - 27s 975ms/step - loss: 0.1651 - accuracy: 0.0032 - categorical_accuracy: 0.6294\n",
      "Test Accuracy: 0.3151681739836931\n"
     ]
    }
   ],
   "source": [
    "print(\"[INFO] Calculating model accuracy\")\n",
    "scores = model.evaluate(x_test, y_test)\n",
    "print(f\"Test Accuracy: {scores[1]*100}\")"
   ]
  },
  {
   "cell_type": "markdown",
   "metadata": {
    "_uuid": "2a1f759db8afe933e62fe4cf8332cb303bb11be8"
   },
   "source": [
    "Save model using Pickle"
   ]
  },
  {
   "cell_type": "code",
   "execution_count": null,
   "metadata": {
    "_uuid": "5cdf06adf492d79ed28fbdc36e02ad7489c7b33e",
    "trusted": true
   },
   "outputs": [],
   "source": [
    "# save the model to disk\n",
    "print(\"[INFO] Saving model...\")\n",
    "pickle.dump(model,open('cnn_model.pkl', 'wb'))"
   ]
  }
 ],
 "metadata": {
  "kernelspec": {
   "display_name": "base",
   "language": "python",
   "name": "python3"
  },
  "language_info": {
   "codemirror_mode": {
    "name": "ipython",
    "version": 3
   },
   "file_extension": ".py",
   "mimetype": "text/x-python",
   "name": "python",
   "nbconvert_exporter": "python",
   "pygments_lexer": "ipython3",
   "version": "3.9.13"
  },
  "vscode": {
   "interpreter": {
    "hash": "4c8d603154e501021a1e94909a6fa1812dbfd42667d2e6c11a4f040bd55425bc"
   }
  }
 },
 "nbformat": 4,
 "nbformat_minor": 1
}
